{
 "cells": [
  {
   "cell_type": "markdown",
   "metadata": {},
   "source": [
    "# Twitter sentiment analysis using TextBlob and Tweepy "
   ]
  },
  {
   "cell_type": "markdown",
   "metadata": {},
   "source": [
    "The goal of this project is to extract tweets from twitter and display a pie-chart on the sentiments(Positive, Neutral and Negative) of the users on any topic entered and the number of tweets analysed. \n",
    "The libraries used in this projects are TextBlob and Tweepy. \n"
   ]
  },
  {
   "cell_type": "code",
   "execution_count": 3,
   "metadata": {},
   "outputs": [],
   "source": [
    "# Importing the libraries needed for the project\n",
    "\n",
    "from textblob import TextBlob\n",
    "import tweepy\n",
    "import matplotlib.pyplot as plt"
   ]
  },
  {
   "cell_type": "markdown",
   "metadata": {},
   "source": [
    "The below function will help in calculating the percentages of the positive, negative and the neutral tweets\n"
   ]
  },
  {
   "cell_type": "code",
   "execution_count": 4,
   "metadata": {},
   "outputs": [],
   "source": [
    "# Creating a function to calculate the percentage of the tweets\n",
    "\n",
    "def percentage(part, whole):\n",
    "    return 100 * float(part)/ float(whole)"
   ]
  },
  {
   "cell_type": "markdown",
   "metadata": {},
   "source": [
    "Entering the connection keys required to connect with the twitter API. "
   ]
  },
  {
   "cell_type": "code",
   "execution_count": 5,
   "metadata": {},
   "outputs": [],
   "source": [
    "# Establishing connection with twitter. The below are the required access from twitter to connect to the twitter API\n",
    "\n",
    "consumerSecret = 'Enter details'\n",
    "consumerKey = 'Enter details'\n",
    "accessToken = 'Enter details'\n",
    "accessTokenSecret = 'Enter details'\n"
   ]
  },
  {
   "cell_type": "code",
   "execution_count": null,
   "metadata": {},
   "outputs": [],
   "source": [
    "#authorising twitter used the tweepy lib\n",
    "\n",
    "auth = tweepy.OAuthHandler(consumer_key = consumerKey, consumer_secret = consumerSecret)\n",
    "auth.set_access_token(accessToken, accessTokenSecret)\n",
    "api = tweepy.API(auth)\n"
   ]
  },
  {
   "cell_type": "code",
   "execution_count": null,
   "metadata": {},
   "outputs": [],
   "source": [
    "# Creating a tab where the term for which the sentiment analysis has to be done has to be entered \n",
    "# and the number of tweets to be analysed.\n",
    "\n",
    "search_term = input('Enter the Keyword or #hashtag you are searching for : ')\n",
    "number_of_tweets = input('Enter the number of tweets to be analysed : ')\n",
    "\n",
    "tweets = tweepy.cursor(api.search, q = search_term, lang = 'English').items(number_of_tweets)\n",
    "\n"
   ]
  },
  {
   "cell_type": "code",
   "execution_count": null,
   "metadata": {},
   "outputs": [],
   "source": [
    "#creating a for loop to analyse the tweets and store the polarity of the tweets(positive, negative and neutral).\n",
    "\n",
    "positive = 0\n",
    "negative = 0\n",
    "neutral = 0\n",
    "polarity = 0\n",
    "\n",
    "for tweet in tweets:\n",
    "    analysis = TextBlob(tweet.text)\n",
    "    polarity += analysis.sentiment.polarity\n",
    "    \n",
    "    if analysis.sentiment.polarity > 0.00:\n",
    "        positive += 1\n",
    "    elif analysis.sentiment.polarity == 0: \n",
    "        neutral += 1\n",
    "    elif analysis.sentiment.polarity < 0.00:\n",
    "        negative += 1\n",
    "    \n"
   ]
  },
  {
   "cell_type": "code",
   "execution_count": null,
   "metadata": {},
   "outputs": [],
   "source": [
    "#Calculating the percentages of the number of positive, negative and the neutral tweets to plot the graph\n",
    "\n",
    "positive = format(percentage(positive, number_of_tweets), '2f%')\n",
    "negative = format(percentage(negative, number_of_tweets), '2f%')\n",
    "neutral = format(percentage(neutral, number_of_tweets), '2f%')\n",
    "polarity = format(percentage(polarity, number_of_tweets), '2f%')\n",
    "\n",
    "print(\"To the word or the hashtag\" + search_term + \"after analysing\" + number_of_tweets + \"tweets.\" )\n",
    "\n",
    "if polarity == 0:\n",
    "    print('Neutral')\n",
    "elif polarity > 0.00:\n",
    "    print('Positive')\n",
    "elif polarity < 0.00:\n",
    "    print('Negative')\n",
    "      \n",
    "\n"
   ]
  },
  {
   "cell_type": "markdown",
   "metadata": {},
   "source": [
    "Creating a pie chart with the results on the topic/ hashtag. "
   ]
  },
  {
   "cell_type": "code",
   "execution_count": null,
   "metadata": {},
   "outputs": [],
   "source": [
    "#plotting a pie chart to check the percentage of sentiments of people\n",
    "\n",
    "labels = ['Positive ['+str(positive)+'%]', 'Negative ['+str(negative)+'%]', 'Neutral ['+str(neutral)+'%]']\n",
    "sizes = [positive, negative, neutral]\n",
    "color = ['blue', 'green', 'yellow']\n",
    "patches, texts = plt.pie(sizes, colors= 'color', startangle = 90)\n",
    "plt.legend(patches, labels, loc = 'best')\n",
    "plt.title(\"To the word or the hashtag\" + search_term + \"after analysing\" + number_of_tweets + \"tweets.\" )\n",
    "plt.axis('equal')\n",
    "plt.tight_layout()\n",
    "plt.show()"
   ]
  }
 ],
 "metadata": {
  "kernelspec": {
   "display_name": "Python 3",
   "language": "python",
   "name": "python3"
  },
  "language_info": {
   "codemirror_mode": {
    "name": "ipython",
    "version": 3
   },
   "file_extension": ".py",
   "mimetype": "text/x-python",
   "name": "python",
   "nbconvert_exporter": "python",
   "pygments_lexer": "ipython3",
   "version": "3.6.4"
  }
 },
 "nbformat": 4,
 "nbformat_minor": 2
}
